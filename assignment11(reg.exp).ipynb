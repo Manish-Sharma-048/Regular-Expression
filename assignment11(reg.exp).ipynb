{
 "cells": [
  {
   "cell_type": "markdown",
   "metadata": {},
   "source": [
    "1. Write a Python program to check that a string contains only a certain set of characters (in this case a-z, A-Z and 0-9)."
   ]
  },
  {
   "cell_type": "code",
   "execution_count": null,
   "metadata": {},
   "outputs": [],
   "source": [
    "import re\n",
    "string = \"abcABC123<>?\"\n",
    "if re.findall('\\W',string):\n",
    "    print (\"This string contains special set of characters\")\n",
    "else:\n",
    "    print(\"This string only contains certain set of characters\")"
   ]
  },
  {
   "cell_type": "markdown",
   "metadata": {},
   "source": [
    "2. Write a Python program that matches a string that has an a followed by zero or more b's. "
   ]
  },
  {
   "cell_type": "code",
   "execution_count": null,
   "metadata": {},
   "outputs": [],
   "source": [
    "import re\n",
    "string = 'cat'\n",
    "if re.search('ab*',string,re.I):\n",
    "    print(\"This string has 'a' followed by zero or more 'b'\")\n",
    "else:\n",
    "    print(\"Invalid entry\")"
   ]
  },
  {
   "cell_type": "markdown",
   "metadata": {},
   "source": [
    "3. Write a Python program that matches a string that has an a followed by one or more b's."
   ]
  },
  {
   "cell_type": "code",
   "execution_count": null,
   "metadata": {},
   "outputs": [],
   "source": [
    "import re\n",
    "string = 'ant'\n",
    "if re.search('ab',string,re.I):\n",
    "    print(\"This string has 'a' followed by one or more 'b'\")\n",
    "else:\n",
    "    print(\"Invalid entry\")"
   ]
  },
  {
   "cell_type": "markdown",
   "metadata": {},
   "source": [
    "4. Write a Python program that matches a string that has an a followed by zero or one 'b'."
   ]
  },
  {
   "cell_type": "code",
   "execution_count": null,
   "metadata": {},
   "outputs": [],
   "source": [
    "import re\n",
    "string = 'cabb'\n",
    "if re.search('ab?$',string,re.I):\n",
    "    print(\"This string has 'a' followed by zero or one 'b'\")\n",
    "else:\n",
    "    print(\"Invalid entry\")"
   ]
  },
  {
   "cell_type": "markdown",
   "metadata": {},
   "source": [
    "5. Write a Python program that matches a string that has an a followed by three 'b'."
   ]
  },
  {
   "cell_type": "code",
   "execution_count": null,
   "metadata": {},
   "outputs": [],
   "source": [
    "import re\n",
    "string = 'ab'\n",
    "if re.search('[a][b]{3}?',string,re.I):\n",
    "    print(\"This string has 'a' followed by three 'b'\")\n",
    "else:\n",
    "    print(\"Invalid entry\")"
   ]
  },
  {
   "cell_type": "markdown",
   "metadata": {},
   "source": [
    "6. Write a Python program that matches a string that has an a followed by two to three 'b'."
   ]
  },
  {
   "cell_type": "code",
   "execution_count": null,
   "metadata": {},
   "outputs": [],
   "source": [
    "import re\n",
    "string = 'abbbb'\n",
    "if re.search('[a][b]{2}b?$',string,re.I):\n",
    "    print(\"This string has 'a' followed by two to three 'b'\")\n",
    "else:\n",
    "    print(\"Invalid entry\")"
   ]
  },
  {
   "cell_type": "markdown",
   "metadata": {},
   "source": [
    "7. Write a Python program to find sequences of lowercase letters joined with an underscore."
   ]
  },
  {
   "cell_type": "code",
   "execution_count": null,
   "metadata": {},
   "outputs": [],
   "source": [
    "import re\n",
    "string = 'abc_abcQ'\n",
    "\n",
    "if re.search('^[a-z]+_[a-z]+$',string):\n",
    "    print('Sequence found')\n",
    "else:\n",
    "    print('Invalid sequence')"
   ]
  },
  {
   "cell_type": "markdown",
   "metadata": {},
   "source": [
    "8. Write a Python program to find the sequences of one upper case letter followed by lower case letters."
   ]
  },
  {
   "cell_type": "code",
   "execution_count": null,
   "metadata": {},
   "outputs": [],
   "source": [
    "import re\n",
    "string = 'AnujA'\n",
    "\n",
    "if re.search('[A-Z][a-z]+$',string):\n",
    "    print('Sequence found')\n",
    "else:\n",
    "    print('Invalid sequence')"
   ]
  },
  {
   "cell_type": "markdown",
   "metadata": {},
   "source": [
    "9. Write a Python program that matches a string that has an 'a' followed by anything, ending in 'b'."
   ]
  },
  {
   "cell_type": "code",
   "execution_count": null,
   "metadata": {},
   "outputs": [],
   "source": [
    "import re\n",
    "string = 'aaloobumb'\n",
    "if re.search('a.*b$',string):\n",
    "    print('Valid syntax')\n",
    "else:\n",
    "    print('Invalid syntax')"
   ]
  },
  {
   "cell_type": "markdown",
   "metadata": {},
   "source": [
    "10. Write a Python program that matches a word at the beginning of a string."
   ]
  },
  {
   "cell_type": "code",
   "execution_count": null,
   "metadata": {},
   "outputs": [],
   "source": [
    "import re\n",
    "string  = \" Hello World\"\n",
    "if re.match('^\\w+',string):\n",
    "    print('Valid syntax')\n",
    "else:\n",
    "    print('Invalid syntax')"
   ]
  },
  {
   "cell_type": "markdown",
   "metadata": {},
   "source": [
    "11. Write a Python program that matches a word at the end of string, with optional punctuation."
   ]
  },
  {
   "cell_type": "code",
   "execution_count": null,
   "metadata": {},
   "outputs": [],
   "source": [
    "import re\n",
    "string = \"Hello world\"\n",
    "if re.search('\\w+\\S*$',string):\n",
    "    print('Valid syntax')\n",
    "else:\n",
    "    print('Invalid syntax')"
   ]
  },
  {
   "cell_type": "markdown",
   "metadata": {},
   "source": [
    "12. Write a Python program that matches a word containing 'z'."
   ]
  },
  {
   "cell_type": "code",
   "execution_count": null,
   "metadata": {},
   "outputs": [],
   "source": [
    "import re\n",
    "string = 'ebzra'\n",
    "if re.search('z',string,re.I):\n",
    "    print('Valid syntax')\n",
    "else:\n",
    "    print('Invalid syntax')"
   ]
  },
  {
   "cell_type": "markdown",
   "metadata": {},
   "source": [
    "13. Write a Python program that matches a word containing 'z', not at the start or end of the word."
   ]
  },
  {
   "cell_type": "code",
   "execution_count": null,
   "metadata": {},
   "outputs": [],
   "source": [
    "import re\n",
    "string = \"Cech Republic\"\n",
    "if re.search('.z.',string):\n",
    "    print('Valid syntax')\n",
    "else:\n",
    "    print('Invalid syntax')"
   ]
  },
  {
   "cell_type": "markdown",
   "metadata": {},
   "source": [
    "14. Write a Python program to match a string that contains only upper and lowercase letters, numbers, and underscores."
   ]
  },
  {
   "cell_type": "code",
   "execution_count": null,
   "metadata": {},
   "outputs": [],
   "source": [
    "import re\n",
    "string = 'Hello_123'\n",
    "if re.search('^\\w*$',string,re.I):\n",
    "    print('Valid text')\n",
    "else:\n",
    "    print('Invalid text')"
   ]
  },
  {
   "cell_type": "markdown",
   "metadata": {},
   "source": [
    "15. Write a Python program where a string will start with a specific number."
   ]
  },
  {
   "cell_type": "code",
   "execution_count": null,
   "metadata": {},
   "outputs": [],
   "source": [
    "import re\n",
    "string = '9_Number'\n",
    "if re.match('[9]',string):\n",
    "    print('Valid text')\n",
    "else:\n",
    "    print('Invalid text')"
   ]
  },
  {
   "cell_type": "markdown",
   "metadata": {},
   "source": [
    "16. Write a Python program to remove leading zeros from an IP address."
   ]
  },
  {
   "cell_type": "code",
   "execution_count": null,
   "metadata": {},
   "outputs": [],
   "source": [
    "import re\n",
    "ip = '182.06.40.99'\n",
    "print(re.sub('\\.[0]*','.',ip))"
   ]
  },
  {
   "cell_type": "markdown",
   "metadata": {},
   "source": [
    "17. Write a Python program to check for a number at the end of a string."
   ]
  },
  {
   "cell_type": "code",
   "execution_count": null,
   "metadata": {},
   "outputs": [],
   "source": [
    "import re\n",
    "string = 'Hello World.'\n",
    "if re.search('.[0-9]$',string):\n",
    "    print('There is a number in the end of the string')\n",
    "else:\n",
    "    print('There is no number in the end of the string')"
   ]
  },
  {
   "cell_type": "markdown",
   "metadata": {},
   "source": [
    "18. Write a Python program to search the numbers (0-9) of length between 1 to 3 in a given string. \n",
    " \n",
    "\"Exercises number 1, 12, 13, and 345 are important\""
   ]
  },
  {
   "cell_type": "code",
   "execution_count": null,
   "metadata": {},
   "outputs": [],
   "source": [
    "import re\n",
    "string = \"Exercises number 1, 12, 13, and 345 are important\"\n",
    "if re.search('.[0-9]{1,3}.',string):\n",
    "    print('String has 0-9 numbers')\n",
    "else:\n",
    "    print(\"String doesn't have numbers\")"
   ]
  },
  {
   "cell_type": "markdown",
   "metadata": {},
   "source": [
    "19. Write a Python program to search some literals strings in a string. \n",
    "Sample text : 'The quick brown fox jumps over the lazy dog.'\n",
    "Searched words : 'fox', 'dog', 'horse'"
   ]
  },
  {
   "cell_type": "code",
   "execution_count": null,
   "metadata": {},
   "outputs": [],
   "source": [
    "import re\n",
    "string = 'The quick brown fox jumps over the lazy dog.'\n",
    "li = ['fox','dog','horse']\n",
    "\n",
    "for i in li:\n",
    "    if re.search('.{}.'.format(i),string):\n",
    "        print('Word is present')\n",
    "    else:\n",
    "        print('Word is not present')"
   ]
  },
  {
   "cell_type": "markdown",
   "metadata": {},
   "source": [
    "20. Write a Python program to search a literals string in a string and also find the location within the original string where the pattern occurs. \n",
    "Sample text : 'The quick brown fox jumps over the lazy dog.'\n",
    "Searched words : 'fox'\n"
   ]
  },
  {
   "cell_type": "code",
   "execution_count": null,
   "metadata": {},
   "outputs": [],
   "source": [
    "import re\n",
    "string = 'The fox quick brown jumps over the lazy dog.'\n",
    "match = re.search('fox',string)\n",
    "print('\"fox\" is present at: {}, {}'.format(match.start(),match.end()))"
   ]
  },
  {
   "cell_type": "markdown",
   "metadata": {},
   "source": [
    "21. Write a Python program to find the substrings within a string. \n",
    "Sample text :\n",
    "'Python exercises, PHP exercises, C# exercises'\n",
    "Pattern :\n",
    "'exercises'\n",
    "Note: There are two instances of exercises in the input string."
   ]
  },
  {
   "cell_type": "code",
   "execution_count": null,
   "metadata": {},
   "outputs": [],
   "source": [
    "import re\n",
    "string = 'Python exercises, PHP exercises, C# exercises'\n",
    "c = string.count('exercises')\n",
    "if re.search('exercises',string):\n",
    "    print('\"exercises\" is present in the string {} times'.format(c))\n",
    "else:\n",
    "    print('\"exercises\" is not present')"
   ]
  },
  {
   "cell_type": "markdown",
   "metadata": {},
   "source": [
    "22. Write a Python program to find the occurrence and position of the substrings within a string. "
   ]
  },
  {
   "cell_type": "code",
   "execution_count": null,
   "metadata": {},
   "outputs": [],
   "source": [
    "import re\n",
    "string = 'Python exercises, PHP exercises, C# exercises'\n",
    "\n",
    "for match in re.finditer('exercises',string):\n",
    "    s = match.start()\n",
    "    e = match.end()\n",
    "    print(string[s:e],'at',s,e)"
   ]
  },
  {
   "cell_type": "markdown",
   "metadata": {},
   "source": [
    "23. Write a Python program to replace whitespaces with an underscore and vice versa."
   ]
  },
  {
   "cell_type": "code",
   "execution_count": null,
   "metadata": {},
   "outputs": [],
   "source": [
    "import re\n",
    "string = 'Hello_World how_are you'\n",
    "li = list(string)\n",
    "\n",
    "for i in range(len(li)):\n",
    "    if li[i] == '_':\n",
    "        li[i] = ' '\n",
    "    elif li[i] == ' ':\n",
    "        li[i] = '_'\n",
    "\n",
    "str1 = ''.join(li)\n",
    "print(str1)"
   ]
  },
  {
   "cell_type": "markdown",
   "metadata": {},
   "source": [
    "24. Write a Python program to extract year, month and date from an url."
   ]
  },
  {
   "cell_type": "code",
   "execution_count": null,
   "metadata": {},
   "outputs": [],
   "source": [
    "import re\n",
    "url = 'https://www.washingtonpost.com/world/2021/04/11/coronavirus-mexico-migrant-death-repatriate-remains/'\n",
    "print(re.findall('(\\d{4})/(\\d{1,2})/(\\d{1,2})', url))"
   ]
  },
  {
   "cell_type": "markdown",
   "metadata": {},
   "source": [
    "25. Write a Python program to convert a date of yyyy-mm-dd format to dd-mm-yyyy format."
   ]
  },
  {
   "cell_type": "code",
   "execution_count": null,
   "metadata": {},
   "outputs": [],
   "source": [
    "import re\n",
    "url = 'https://www.washingtonpost.com/world/2021/04/11/coronavirus-mexico-migrant-death-repatriate-remains/'\n",
    "li = []\n",
    "dt = re.findall('(\\d{4})/(\\d{1,2})/(\\d{1,2})',url)\n",
    "print(dt)\n",
    "dt1 = list(dt)\n",
    "\n",
    "for i in range(3):\n",
    "    li.append(dt1[0][i])\n",
    "\n",
    "dt = '-'.join(li)\n",
    "print('date in format dd-mm-yyyy:',re.sub('(\\d{4})-(\\d{1,2})-(\\d{1,2})','\\\\3-\\\\2-\\\\1',dt))"
   ]
  },
  {
   "cell_type": "markdown",
   "metadata": {},
   "source": [
    "26. Write a Python program to match if two words from a list of words starting with letter 'P'."
   ]
  },
  {
   "cell_type": "code",
   "execution_count": null,
   "metadata": {},
   "outputs": [],
   "source": [
    "import re\n",
    "li = ['India', 'Russia', 'Paraguay', 'Germany', 'Canada', 'Poland','Peru']\n",
    "li2 = []\n",
    "\n",
    "for i in li:\n",
    "    if re.match('p.',i,re.I):\n",
    "        li2.append(i)\n",
    "    else:\n",
    "        continue\n",
    "\n",
    "if len(li2)>1:\n",
    "    print(li2)\n",
    "else:\n",
    "    print('Less than 2 words')"
   ]
  },
  {
   "cell_type": "markdown",
   "metadata": {},
   "source": [
    "27. Write a Python program to separate and print the numbers of a given string. \n"
   ]
  },
  {
   "cell_type": "code",
   "execution_count": null,
   "metadata": {},
   "outputs": [],
   "source": [
    "import re\n",
    "string = 'Hello is this 1234, I am calling from home'\n",
    "str1 = re.split('\\D+',string)\n",
    "for i in str1:\n",
    "    if i == '':\n",
    "        continue\n",
    "    else:\n",
    "        print(i, end = ' ')"
   ]
  },
  {
   "cell_type": "markdown",
   "metadata": {},
   "source": [
    "28. Write a Python program to find all words starting with 'a' or 'e' in a given string."
   ]
  },
  {
   "cell_type": "code",
   "execution_count": null,
   "metadata": {},
   "outputs": [],
   "source": [
    "import re\n",
    "string = \"Hello Adam, Eve is waiting for you at a cafe in East London\"\n",
    "li = string.split()\n",
    "for word in li:\n",
    "    if re.match('a|e',word,re.I):\n",
    "        print(word)"
   ]
  },
  {
   "cell_type": "markdown",
   "metadata": {},
   "source": [
    "29. Write a Python program to separate and print the numbers and their position of a given string."
   ]
  },
  {
   "cell_type": "code",
   "execution_count": null,
   "metadata": {},
   "outputs": [],
   "source": [
    "import re\n",
    "string = 'Address: B-602, sector 24, G.B. Nagar, 201301'\n",
    "for m in re.finditer(\"\\d+\", string):\n",
    "    print(m.group())\n",
    "    print(\"Index position:\", m.start())"
   ]
  },
  {
   "cell_type": "markdown",
   "metadata": {},
   "source": [
    "30. Write a Python program to abbreviate 'Road' as 'Rd.' in a given string."
   ]
  },
  {
   "cell_type": "code",
   "execution_count": null,
   "metadata": {},
   "outputs": [],
   "source": [
    "import re\n",
    "string = 'Lal Bahadur Shastri Memorial: 1, Motilal Nehru Palace, Near 10 Janpath, Man Singh Road Area, New Delhi, Delhi 110011'\n",
    "print(string)\n",
    "print(re.sub('Road','Rd',string))"
   ]
  },
  {
   "cell_type": "markdown",
   "metadata": {},
   "source": [
    "31. Write a Python program to replace all occurrences of space, comma, or dot with a colon."
   ]
  },
  {
   "cell_type": "code",
   "execution_count": null,
   "metadata": {},
   "outputs": [],
   "source": [
    "import re\n",
    "string = \"Lal Bahadur Shastri was an Indian statesman who served as the second Prime Minister of India. He promoted the White Revolution – a national campaign to increase the production and supply of milk – by supporting the Amul milk co-operative of Anand, Gujarat and creating the National Dairy Development Board. Underlining the need to boost India's food production, Shastri also promoted the Green Revolution in India in 1965. This led to an increase in food grain production, especially in Punjab, Haryana and Uttar Pradesh.\"\n",
    "\n",
    "print(re.sub('[ ,.]',':',string))"
   ]
  },
  {
   "cell_type": "markdown",
   "metadata": {},
   "source": [
    "32. Write a Python program to replace maximum 2 occurrences of space, comma, or dot with a colon."
   ]
  },
  {
   "cell_type": "code",
   "execution_count": null,
   "metadata": {},
   "outputs": [],
   "source": [
    "import re\n",
    "string = 'Hello  World,, how are you..?'\n",
    "\n",
    "print(re.sub('[ ,.]{2}',':',string))"
   ]
  },
  {
   "cell_type": "markdown",
   "metadata": {},
   "source": [
    "33. Write a Python program to find all five characters long word in a string."
   ]
  },
  {
   "cell_type": "code",
   "execution_count": null,
   "metadata": {},
   "outputs": [],
   "source": [
    "import re\n",
    "string = 'late, slate, fame, shame'\n",
    "\n",
    "print(list(re.findall(r'\\b[a-z]{5}\\b',string,re.I)))"
   ]
  },
  {
   "cell_type": "markdown",
   "metadata": {},
   "source": [
    "34. Write a Python program to find all three, four, five characters long words in a string."
   ]
  },
  {
   "cell_type": "code",
   "execution_count": null,
   "metadata": {},
   "outputs": [],
   "source": [
    "import re\n",
    "string = 'at, mat, chat, hole, whole, America'\n",
    "print(re.findall(r'\\b[a-z]{3,5}\\b',string,re.I))"
   ]
  },
  {
   "cell_type": "markdown",
   "metadata": {},
   "source": [
    "35. Write a Python program to find all words which are at least 4 characters long in a string."
   ]
  },
  {
   "cell_type": "code",
   "execution_count": null,
   "metadata": {},
   "outputs": [],
   "source": [
    "import re\n",
    "string = 'a, at, cat, chat, later'\n",
    "print(re.findall(r'\\b[a-z]{4,}\\b',string,re.I))"
   ]
  },
  {
   "cell_type": "markdown",
   "metadata": {},
   "source": [
    "36. Write a python program to convert camel case string to snake case string."
   ]
  },
  {
   "cell_type": "code",
   "execution_count": null,
   "metadata": {},
   "outputs": [],
   "source": [
    "import re\n",
    "string = 'YoMan'\n",
    "print(re.sub('(.)([A-Z][a-z]+)', r'\\1_\\2', string).lower())"
   ]
  },
  {
   "cell_type": "markdown",
   "metadata": {},
   "source": [
    "37. Write a python program to convert snake case string to camel case string."
   ]
  },
  {
   "cell_type": "code",
   "execution_count": null,
   "metadata": {},
   "outputs": [],
   "source": [
    "string = \"hey_dude_what_is_up\"\n",
    "print('Snake case: ',string)\n",
    "l = list(string)\n",
    "l1 = []\n",
    "for i in range(len(l)):\n",
    "    l[0] = l[0].upper()\n",
    "    if l[i] == '_':\n",
    "        l[i+1] = l[i+1].upper()\n",
    "        pass\n",
    "    else:\n",
    "        l1.append(l[i])\n",
    "string = ''.join(l1)\n",
    "print('Camel case: ',string)"
   ]
  },
  {
   "cell_type": "markdown",
   "metadata": {},
   "source": [
    "38. Write a Python program to extract values between quotation marks of a string."
   ]
  },
  {
   "cell_type": "code",
   "execution_count": null,
   "metadata": {},
   "outputs": [],
   "source": [
    "import re\n",
    "string = '\"To succeed in your mission, you must have single-minded devotion to your goal.\" - A. P. J. Abdul Kalam'\n",
    "\n",
    "print(re.findall('\"(.*?)\"', string))"
   ]
  },
  {
   "cell_type": "markdown",
   "metadata": {},
   "source": [
    "39. Write a Python program to remove multiple spaces in a string."
   ]
  },
  {
   "cell_type": "code",
   "execution_count": null,
   "metadata": {},
   "outputs": [],
   "source": [
    "import re\n",
    "string = 'Hello         Python'\n",
    "print(re.sub(' +',' ',string))"
   ]
  },
  {
   "cell_type": "markdown",
   "metadata": {},
   "source": [
    "40. Write a Python program to remove all whitespaces from a string."
   ]
  },
  {
   "cell_type": "code",
   "execution_count": null,
   "metadata": {},
   "outputs": [],
   "source": [
    "import re\n",
    "string = 'Hello John, how are you?'\n",
    "print(re.sub(' ','',string))"
   ]
  },
  {
   "cell_type": "markdown",
   "metadata": {},
   "source": [
    "41. Write a Python program to remove everything except alphanumeric characters from a string."
   ]
  },
  {
   "cell_type": "code",
   "execution_count": null,
   "metadata": {},
   "outputs": [],
   "source": [
    "import re\n",
    "string = 'House_# = D-1024'\n",
    "print(re.sub('(\\W)|(_)','',string))"
   ]
  },
  {
   "cell_type": "markdown",
   "metadata": {},
   "source": [
    "42. Write a Python program to find urls in a string."
   ]
  },
  {
   "cell_type": "code",
   "execution_count": null,
   "metadata": {},
   "outputs": [],
   "source": [
    "import re\n",
    "text = '<p>Contents :</p><a href=\"https://w3resource.com\">Python Examples</a><a href=\"http://github.com\">Even More Examples</a>'\n",
    "urls = re.findall('http[s]?://(?:[a-zA-Z]|[0-9]|[$-_@.&+]|[!*\\(\\),]|(?:%[0-9a-fA-F][0-9a-fA-F]))+', text)\n",
    "print(\"Original string: \",text)\n",
    "print(\"Urls: \",urls)"
   ]
  },
  {
   "cell_type": "markdown",
   "metadata": {},
   "source": [
    "43. Write a Python program to split a string at uppercase letters."
   ]
  },
  {
   "cell_type": "code",
   "execution_count": null,
   "metadata": {},
   "outputs": [],
   "source": [
    "import re\n",
    "string = 'Hello World, how are you doing Today?'\n",
    "print(re.findall('[A-Z][a-z]*',string))"
   ]
  },
  {
   "cell_type": "markdown",
   "metadata": {},
   "source": [
    "44. Write a Python program to do a case-insensitive string replacement."
   ]
  },
  {
   "cell_type": "code",
   "execution_count": null,
   "metadata": {},
   "outputs": [],
   "source": [
    "import re\n",
    "text = \"PHP Exercises\"\n",
    "print(\"Original Text: \",text)\n",
    "redata = re.compile(re.escape('php'), re.IGNORECASE)\n",
    "new_text = redata.sub('php', 'PHP Exercises')\n",
    "print(\"Using 'php' replace PHP\") \n",
    "print(\"New Text: \",new_text)"
   ]
  }
 ],
 "metadata": {
  "kernelspec": {
   "display_name": "Python 3",
   "language": "python",
   "name": "python3"
  },
  "language_info": {
   "codemirror_mode": {
    "name": "ipython",
    "version": 3
   },
   "file_extension": ".py",
   "mimetype": "text/x-python",
   "name": "python",
   "nbconvert_exporter": "python",
   "pygments_lexer": "ipython3",
   "version": "3.8.5"
  }
 },
 "nbformat": 4,
 "nbformat_minor": 4
}
